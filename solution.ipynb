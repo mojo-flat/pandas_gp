{
 "cells": [
  {
   "cell_type": "markdown",
   "metadata": {},
   "source": [
    "![ice cream flavors](images/difference-flavors-of-ice-cream.jpeg)\n",
    "\n",
    "# Let's prepare a dataframe of ice cream reviews in Pandas.\n",
    "\n",
    "\n",
    "\n",
    "We would like to do some analytics on ice cream flavors in order to inform retailers about which flavors might be best to stock and ice cream manufacturers interested in how their flavors are being received.\n",
    "\n",
    "Pandas offers tools to load, view, and process data.  Today we will be practicing:\n",
    "\n",
    "1. Loading data from disk into working memory in the form of a dataframe\n",
    "2. Viewing data in the dataframe\n",
    "3. Exploring the number of rows and columns, column names and data types, and any missing data\n",
    "4. How to remove columns and rows with missing data.\n",
    "5. How to join two dataframes together.\n",
    "\n",
    "For this notebook you will be guiding your instructor through the steps of loading and exploring a dataset in Pandas.  \n",
    "\n",
    "As necessary, please use Google to find out how to complete each step."
   ]
  },
  {
   "cell_type": "markdown",
   "metadata": {},
   "source": [
    "# Load Modules\n",
    "\n",
    "First, we have to import the Pandas module.  We will give it the alias 'pd'"
   ]
  },
  {
   "cell_type": "code",
   "execution_count": 1,
   "metadata": {
    "ExecuteTime": {
     "end_time": "2022-05-19T21:49:11.508665Z",
     "start_time": "2022-05-19T21:49:11.027779Z"
    }
   },
   "outputs": [],
   "source": [
    "import pandas as pd"
   ]
  },
  {
   "cell_type": "markdown",
   "metadata": {},
   "source": [
    "# Load Data"
   ]
  },
  {
   "cell_type": "markdown",
   "metadata": {},
   "source": [
    "There are 2 datasets in this repo.  One is called 'products.csv' and contains descriptions and ratings of several ice cream flavors.  The second is called 'reviews.csv' which contains thousands of reviews of the flavors from 'products.csv'.  Load both into separate dataframes named 'products' and 'reviews'.  \n",
    "\n",
    "These data were downloaded from [Kaggle: Ice Cream Dataset](https://www.kaggle.com/tysonpo/ice-cream-dataset)"
   ]
  },
  {
   "cell_type": "code",
   "execution_count": 2,
   "metadata": {
    "ExecuteTime": {
     "end_time": "2022-05-19T21:49:11.515812Z",
     "start_time": "2022-05-19T21:49:11.510467Z"
    }
   },
   "outputs": [],
   "source": [
    "products = pd.read_csv(\"products.csv\")"
   ]
  },
  {
   "cell_type": "code",
   "execution_count": 3,
   "metadata": {
    "ExecuteTime": {
     "end_time": "2022-05-19T21:49:11.547536Z",
     "start_time": "2022-05-19T21:49:11.520011Z"
    }
   },
   "outputs": [],
   "source": [
    "reviews = pd.read_csv(\"reviews.csv\")"
   ]
  },
  {
   "cell_type": "markdown",
   "metadata": {},
   "source": [
    "# Examine Data"
   ]
  },
  {
   "cell_type": "markdown",
   "metadata": {},
   "source": [
    "Great!  Now let's take a look at these datasets.  \n",
    "\n",
    "For **EACH** dataset, display: \n",
    "\n",
    "1. the first 5 rows, \n",
    "2. the last 5 rows, and \n",
    "3. 5 random rows."
   ]
  },
  {
   "cell_type": "code",
   "execution_count": 4,
   "metadata": {
    "ExecuteTime": {
     "end_time": "2022-05-19T21:49:11.567166Z",
     "start_time": "2022-05-19T21:49:11.553921Z"
    }
   },
   "outputs": [
    {
     "data": {
      "text/html": [
       "<div>\n",
       "<style scoped>\n",
       "    .dataframe tbody tr th:only-of-type {\n",
       "        vertical-align: middle;\n",
       "    }\n",
       "\n",
       "    .dataframe tbody tr th {\n",
       "        vertical-align: top;\n",
       "    }\n",
       "\n",
       "    .dataframe thead th {\n",
       "        text-align: right;\n",
       "    }\n",
       "</style>\n",
       "<table border=\"1\" class=\"dataframe\">\n",
       "  <thead>\n",
       "    <tr style=\"text-align: right;\">\n",
       "      <th></th>\n",
       "      <th>key</th>\n",
       "      <th>name</th>\n",
       "      <th>subhead</th>\n",
       "      <th>description</th>\n",
       "      <th>rating</th>\n",
       "      <th>rating_count</th>\n",
       "      <th>ingredients</th>\n",
       "    </tr>\n",
       "  </thead>\n",
       "  <tbody>\n",
       "    <tr>\n",
       "      <th>0</th>\n",
       "      <td>0_bj</td>\n",
       "      <td>Salted Caramel Core</td>\n",
       "      <td>Sweet Cream Ice Cream with Blonde Brownies &amp; a...</td>\n",
       "      <td>Find your way to the ultimate ice cream experi...</td>\n",
       "      <td>3.7</td>\n",
       "      <td>208</td>\n",
       "      <td>CREAM, SKIM MILK, LIQUID SUGAR (SUGAR, WATER),...</td>\n",
       "    </tr>\n",
       "    <tr>\n",
       "      <th>1</th>\n",
       "      <td>1_bj</td>\n",
       "      <td>Netflix &amp; Chilll'd™</td>\n",
       "      <td>Peanut Butter Ice Cream with Sweet &amp; Salty Pre...</td>\n",
       "      <td>There’s something for everyone to watch on Net...</td>\n",
       "      <td>4.0</td>\n",
       "      <td>127</td>\n",
       "      <td>CREAM, SKIM MILK, LIQUID SUGAR (SUGAR, WATER),...</td>\n",
       "    </tr>\n",
       "  </tbody>\n",
       "</table>\n",
       "</div>"
      ],
      "text/plain": [
       "    key                 name  \\\n",
       "0  0_bj  Salted Caramel Core   \n",
       "1  1_bj  Netflix & Chilll'd™   \n",
       "\n",
       "                                             subhead  \\\n",
       "0  Sweet Cream Ice Cream with Blonde Brownies & a...   \n",
       "1  Peanut Butter Ice Cream with Sweet & Salty Pre...   \n",
       "\n",
       "                                         description  rating  rating_count  \\\n",
       "0  Find your way to the ultimate ice cream experi...     3.7           208   \n",
       "1  There’s something for everyone to watch on Net...     4.0           127   \n",
       "\n",
       "                                         ingredients  \n",
       "0  CREAM, SKIM MILK, LIQUID SUGAR (SUGAR, WATER),...  \n",
       "1  CREAM, SKIM MILK, LIQUID SUGAR (SUGAR, WATER),...  "
      ]
     },
     "execution_count": 4,
     "metadata": {},
     "output_type": "execute_result"
    }
   ],
   "source": [
    "products.head(2)"
   ]
  },
  {
   "cell_type": "code",
   "execution_count": 5,
   "metadata": {
    "ExecuteTime": {
     "end_time": "2022-05-19T21:49:11.576540Z",
     "start_time": "2022-05-19T21:49:11.568843Z"
    }
   },
   "outputs": [
    {
     "data": {
      "text/html": [
       "<div>\n",
       "<style scoped>\n",
       "    .dataframe tbody tr th:only-of-type {\n",
       "        vertical-align: middle;\n",
       "    }\n",
       "\n",
       "    .dataframe tbody tr th {\n",
       "        vertical-align: top;\n",
       "    }\n",
       "\n",
       "    .dataframe thead th {\n",
       "        text-align: right;\n",
       "    }\n",
       "</style>\n",
       "<table border=\"1\" class=\"dataframe\">\n",
       "  <thead>\n",
       "    <tr style=\"text-align: right;\">\n",
       "      <th></th>\n",
       "      <th>key</th>\n",
       "      <th>name</th>\n",
       "      <th>subhead</th>\n",
       "      <th>description</th>\n",
       "      <th>rating</th>\n",
       "      <th>rating_count</th>\n",
       "      <th>ingredients</th>\n",
       "    </tr>\n",
       "  </thead>\n",
       "  <tbody>\n",
       "    <tr>\n",
       "      <th>55</th>\n",
       "      <td>55_bj</td>\n",
       "      <td>Karamel Sutra® Core</td>\n",
       "      <td>Chocolate &amp; Caramel Ice Creams with Fudge Chip...</td>\n",
       "      <td>Find your way to the ultimate ice cream experi...</td>\n",
       "      <td>4.2</td>\n",
       "      <td>94</td>\n",
       "      <td>CREAM, SKIM MILK, LIQUID SUGAR (SUGAR, WATER),...</td>\n",
       "    </tr>\n",
       "    <tr>\n",
       "      <th>56</th>\n",
       "      <td>56_bj</td>\n",
       "      <td>Peanut Butter Fudge Core</td>\n",
       "      <td>Chocolate &amp; Peanut Butter Ice Creams with Mini...</td>\n",
       "      <td>Find your way to the ultimate ice cream experi...</td>\n",
       "      <td>4.7</td>\n",
       "      <td>19</td>\n",
       "      <td>CREAM, SKIM MILK, LIQUID SUGAR (SUGAR, WATER),...</td>\n",
       "    </tr>\n",
       "  </tbody>\n",
       "</table>\n",
       "</div>"
      ],
      "text/plain": [
       "      key                      name  \\\n",
       "55  55_bj       Karamel Sutra® Core   \n",
       "56  56_bj  Peanut Butter Fudge Core   \n",
       "\n",
       "                                              subhead  \\\n",
       "55  Chocolate & Caramel Ice Creams with Fudge Chip...   \n",
       "56  Chocolate & Peanut Butter Ice Creams with Mini...   \n",
       "\n",
       "                                          description  rating  rating_count  \\\n",
       "55  Find your way to the ultimate ice cream experi...     4.2            94   \n",
       "56  Find your way to the ultimate ice cream experi...     4.7            19   \n",
       "\n",
       "                                          ingredients  \n",
       "55  CREAM, SKIM MILK, LIQUID SUGAR (SUGAR, WATER),...  \n",
       "56  CREAM, SKIM MILK, LIQUID SUGAR (SUGAR, WATER),...  "
      ]
     },
     "execution_count": 5,
     "metadata": {},
     "output_type": "execute_result"
    }
   ],
   "source": [
    "products.tail(2)"
   ]
  },
  {
   "cell_type": "code",
   "execution_count": 6,
   "metadata": {
    "ExecuteTime": {
     "end_time": "2022-05-19T21:49:11.593320Z",
     "start_time": "2022-05-19T21:49:11.578093Z"
    }
   },
   "outputs": [
    {
     "data": {
      "text/html": [
       "<div>\n",
       "<style scoped>\n",
       "    .dataframe tbody tr th:only-of-type {\n",
       "        vertical-align: middle;\n",
       "    }\n",
       "\n",
       "    .dataframe tbody tr th {\n",
       "        vertical-align: top;\n",
       "    }\n",
       "\n",
       "    .dataframe thead th {\n",
       "        text-align: right;\n",
       "    }\n",
       "</style>\n",
       "<table border=\"1\" class=\"dataframe\">\n",
       "  <thead>\n",
       "    <tr style=\"text-align: right;\">\n",
       "      <th></th>\n",
       "      <th>key</th>\n",
       "      <th>name</th>\n",
       "      <th>subhead</th>\n",
       "      <th>description</th>\n",
       "      <th>rating</th>\n",
       "      <th>rating_count</th>\n",
       "      <th>ingredients</th>\n",
       "    </tr>\n",
       "  </thead>\n",
       "  <tbody>\n",
       "    <tr>\n",
       "      <th>19</th>\n",
       "      <td>19_bj</td>\n",
       "      <td>Chocolate Therapy®</td>\n",
       "      <td>Chocolate Ice Cream with Chocolate Cookies &amp; S...</td>\n",
       "      <td>You know how sometimes you just want to scream...</td>\n",
       "      <td>4.8</td>\n",
       "      <td>72</td>\n",
       "      <td>CREAM, LIQUID SUGAR (SUGAR, WATER), SKIM MILK,...</td>\n",
       "    </tr>\n",
       "    <tr>\n",
       "      <th>42</th>\n",
       "      <td>42_bj</td>\n",
       "      <td>Salted Caramel Almond</td>\n",
       "      <td>Vanilla Bean Ice Cream with Roasted Almond Sli...</td>\n",
       "      <td>What makes Ben &amp; Jerry’s so euphoric? Some say...</td>\n",
       "      <td>4.5</td>\n",
       "      <td>23</td>\n",
       "      <td>CREAM, SKIM MILK, LIQUID SUGAR (SUGAR, WATER),...</td>\n",
       "    </tr>\n",
       "    <tr>\n",
       "      <th>56</th>\n",
       "      <td>56_bj</td>\n",
       "      <td>Peanut Butter Fudge Core</td>\n",
       "      <td>Chocolate &amp; Peanut Butter Ice Creams with Mini...</td>\n",
       "      <td>Find your way to the ultimate ice cream experi...</td>\n",
       "      <td>4.7</td>\n",
       "      <td>19</td>\n",
       "      <td>CREAM, SKIM MILK, LIQUID SUGAR (SUGAR, WATER),...</td>\n",
       "    </tr>\n",
       "    <tr>\n",
       "      <th>40</th>\n",
       "      <td>40_bj</td>\n",
       "      <td>Red, White &amp; Blueberry</td>\n",
       "      <td>Blueberry &amp; Raspberry Ice Cream swirled with V...</td>\n",
       "      <td>Hooray for Red, White &amp; Blueberry! From the st...</td>\n",
       "      <td>3.4</td>\n",
       "      <td>39</td>\n",
       "      <td>CREAM, SKIM MILK, WATER, LIQUID SUGAR (SUGAR, ...</td>\n",
       "    </tr>\n",
       "    <tr>\n",
       "      <th>33</th>\n",
       "      <td>33_bj</td>\n",
       "      <td>New York Super Fudge Chunk®</td>\n",
       "      <td>Chocolate Ice Cream with White &amp; Dark Fudge Ch...</td>\n",
       "      <td>In 1985, to make a name for ourselves in New Y...</td>\n",
       "      <td>4.9</td>\n",
       "      <td>63</td>\n",
       "      <td>CREAM, LIQUID SUGAR (SUGAR, WATER), SKIM MILK,...</td>\n",
       "    </tr>\n",
       "  </tbody>\n",
       "</table>\n",
       "</div>"
      ],
      "text/plain": [
       "      key                         name  \\\n",
       "19  19_bj           Chocolate Therapy®   \n",
       "42  42_bj        Salted Caramel Almond   \n",
       "56  56_bj     Peanut Butter Fudge Core   \n",
       "40  40_bj       Red, White & Blueberry   \n",
       "33  33_bj  New York Super Fudge Chunk®   \n",
       "\n",
       "                                              subhead  \\\n",
       "19  Chocolate Ice Cream with Chocolate Cookies & S...   \n",
       "42  Vanilla Bean Ice Cream with Roasted Almond Sli...   \n",
       "56  Chocolate & Peanut Butter Ice Creams with Mini...   \n",
       "40  Blueberry & Raspberry Ice Cream swirled with V...   \n",
       "33  Chocolate Ice Cream with White & Dark Fudge Ch...   \n",
       "\n",
       "                                          description  rating  rating_count  \\\n",
       "19  You know how sometimes you just want to scream...     4.8            72   \n",
       "42  What makes Ben & Jerry’s so euphoric? Some say...     4.5            23   \n",
       "56  Find your way to the ultimate ice cream experi...     4.7            19   \n",
       "40  Hooray for Red, White & Blueberry! From the st...     3.4            39   \n",
       "33  In 1985, to make a name for ourselves in New Y...     4.9            63   \n",
       "\n",
       "                                          ingredients  \n",
       "19  CREAM, LIQUID SUGAR (SUGAR, WATER), SKIM MILK,...  \n",
       "42  CREAM, SKIM MILK, LIQUID SUGAR (SUGAR, WATER),...  \n",
       "56  CREAM, SKIM MILK, LIQUID SUGAR (SUGAR, WATER),...  \n",
       "40  CREAM, SKIM MILK, WATER, LIQUID SUGAR (SUGAR, ...  \n",
       "33  CREAM, LIQUID SUGAR (SUGAR, WATER), SKIM MILK,...  "
      ]
     },
     "execution_count": 6,
     "metadata": {},
     "output_type": "execute_result"
    }
   ],
   "source": [
    "products.sample(5)"
   ]
  },
  {
   "cell_type": "code",
   "execution_count": 7,
   "metadata": {
    "ExecuteTime": {
     "end_time": "2022-05-19T21:49:11.606646Z",
     "start_time": "2022-05-19T21:49:11.595510Z"
    }
   },
   "outputs": [
    {
     "data": {
      "text/html": [
       "<div>\n",
       "<style scoped>\n",
       "    .dataframe tbody tr th:only-of-type {\n",
       "        vertical-align: middle;\n",
       "    }\n",
       "\n",
       "    .dataframe tbody tr th {\n",
       "        vertical-align: top;\n",
       "    }\n",
       "\n",
       "    .dataframe thead th {\n",
       "        text-align: right;\n",
       "    }\n",
       "</style>\n",
       "<table border=\"1\" class=\"dataframe\">\n",
       "  <thead>\n",
       "    <tr style=\"text-align: right;\">\n",
       "      <th></th>\n",
       "      <th>key</th>\n",
       "      <th>author</th>\n",
       "      <th>date</th>\n",
       "      <th>stars</th>\n",
       "      <th>title</th>\n",
       "      <th>helpful_yes</th>\n",
       "      <th>helpful_no</th>\n",
       "      <th>text</th>\n",
       "    </tr>\n",
       "  </thead>\n",
       "  <tbody>\n",
       "    <tr>\n",
       "      <th>0</th>\n",
       "      <td>0_bj</td>\n",
       "      <td>Ilovebennjerry</td>\n",
       "      <td>2017-04-15</td>\n",
       "      <td>3</td>\n",
       "      <td>Not enough brownies!</td>\n",
       "      <td>10</td>\n",
       "      <td>3</td>\n",
       "      <td>Super good, don't get me wrong. But I came for...</td>\n",
       "    </tr>\n",
       "    <tr>\n",
       "      <th>1</th>\n",
       "      <td>0_bj</td>\n",
       "      <td>Sweettooth909</td>\n",
       "      <td>2020-01-05</td>\n",
       "      <td>5</td>\n",
       "      <td>I’m OBSESSED with this pint!</td>\n",
       "      <td>3</td>\n",
       "      <td>0</td>\n",
       "      <td>I decided to try it out although I’m not a hug...</td>\n",
       "    </tr>\n",
       "    <tr>\n",
       "      <th>2</th>\n",
       "      <td>0_bj</td>\n",
       "      <td>LaTanga71</td>\n",
       "      <td>2018-04-26</td>\n",
       "      <td>3</td>\n",
       "      <td>My favorite...More Caramel Please</td>\n",
       "      <td>5</td>\n",
       "      <td>2</td>\n",
       "      <td>My caramel core begins to disappear about half...</td>\n",
       "    </tr>\n",
       "    <tr>\n",
       "      <th>3</th>\n",
       "      <td>0_bj</td>\n",
       "      <td>chicago220</td>\n",
       "      <td>2018-01-14</td>\n",
       "      <td>5</td>\n",
       "      <td>Obsessed!!!</td>\n",
       "      <td>24</td>\n",
       "      <td>1</td>\n",
       "      <td>Why are people complaining about the blonde br...</td>\n",
       "    </tr>\n",
       "    <tr>\n",
       "      <th>4</th>\n",
       "      <td>0_bj</td>\n",
       "      <td>Kassidyk</td>\n",
       "      <td>2020-07-24</td>\n",
       "      <td>1</td>\n",
       "      <td>Worst Ice Cream Ever!</td>\n",
       "      <td>1</td>\n",
       "      <td>5</td>\n",
       "      <td>This ice cream is worst ice cream I’ve ever ta...</td>\n",
       "    </tr>\n",
       "  </tbody>\n",
       "</table>\n",
       "</div>"
      ],
      "text/plain": [
       "    key          author        date  stars                              title  \\\n",
       "0  0_bj  Ilovebennjerry  2017-04-15      3               Not enough brownies!   \n",
       "1  0_bj   Sweettooth909  2020-01-05      5       I’m OBSESSED with this pint!   \n",
       "2  0_bj       LaTanga71  2018-04-26      3  My favorite...More Caramel Please   \n",
       "3  0_bj      chicago220  2018-01-14      5                        Obsessed!!!   \n",
       "4  0_bj        Kassidyk  2020-07-24      1              Worst Ice Cream Ever!   \n",
       "\n",
       "   helpful_yes  helpful_no                                               text  \n",
       "0           10           3  Super good, don't get me wrong. But I came for...  \n",
       "1            3           0  I decided to try it out although I’m not a hug...  \n",
       "2            5           2  My caramel core begins to disappear about half...  \n",
       "3           24           1  Why are people complaining about the blonde br...  \n",
       "4            1           5  This ice cream is worst ice cream I’ve ever ta...  "
      ]
     },
     "execution_count": 7,
     "metadata": {},
     "output_type": "execute_result"
    }
   ],
   "source": [
    "reviews.head()"
   ]
  },
  {
   "cell_type": "code",
   "execution_count": 8,
   "metadata": {
    "ExecuteTime": {
     "end_time": "2022-05-19T21:49:11.624036Z",
     "start_time": "2022-05-19T21:49:11.611217Z"
    }
   },
   "outputs": [
    {
     "data": {
      "text/html": [
       "<div>\n",
       "<style scoped>\n",
       "    .dataframe tbody tr th:only-of-type {\n",
       "        vertical-align: middle;\n",
       "    }\n",
       "\n",
       "    .dataframe tbody tr th {\n",
       "        vertical-align: top;\n",
       "    }\n",
       "\n",
       "    .dataframe thead th {\n",
       "        text-align: right;\n",
       "    }\n",
       "</style>\n",
       "<table border=\"1\" class=\"dataframe\">\n",
       "  <thead>\n",
       "    <tr style=\"text-align: right;\">\n",
       "      <th></th>\n",
       "      <th>key</th>\n",
       "      <th>author</th>\n",
       "      <th>date</th>\n",
       "      <th>stars</th>\n",
       "      <th>title</th>\n",
       "      <th>helpful_yes</th>\n",
       "      <th>helpful_no</th>\n",
       "      <th>text</th>\n",
       "    </tr>\n",
       "  </thead>\n",
       "  <tbody>\n",
       "    <tr>\n",
       "      <th>7938</th>\n",
       "      <td>56_bj</td>\n",
       "      <td>Shellyshellzs</td>\n",
       "      <td>2020-04-30</td>\n",
       "      <td>5</td>\n",
       "      <td>Peanut butter fudge heaven</td>\n",
       "      <td>0</td>\n",
       "      <td>0</td>\n",
       "      <td>Oh man I use to be a whatever was on sale girl...</td>\n",
       "    </tr>\n",
       "    <tr>\n",
       "      <th>7939</th>\n",
       "      <td>56_bj</td>\n",
       "      <td>Or1234</td>\n",
       "      <td>2020-02-24</td>\n",
       "      <td>5</td>\n",
       "      <td>The best Chocolate Ice Cream Combo</td>\n",
       "      <td>0</td>\n",
       "      <td>0</td>\n",
       "      <td>This is the first chocolate ice cream I’ve tri...</td>\n",
       "    </tr>\n",
       "    <tr>\n",
       "      <th>7940</th>\n",
       "      <td>56_bj</td>\n",
       "      <td>ava21</td>\n",
       "      <td>2020-01-31</td>\n",
       "      <td>5</td>\n",
       "      <td>PERFECT!!</td>\n",
       "      <td>0</td>\n",
       "      <td>0</td>\n",
       "      <td>This is the best pint of ice cream I've ever h...</td>\n",
       "    </tr>\n",
       "    <tr>\n",
       "      <th>7941</th>\n",
       "      <td>56_bj</td>\n",
       "      <td>yeee</td>\n",
       "      <td>2019-03-13</td>\n",
       "      <td>5</td>\n",
       "      <td>My favorite!</td>\n",
       "      <td>0</td>\n",
       "      <td>0</td>\n",
       "      <td>This is my favorite ice cream ever! Can't get ...</td>\n",
       "    </tr>\n",
       "    <tr>\n",
       "      <th>7942</th>\n",
       "      <td>56_bj</td>\n",
       "      <td>Ellehcar</td>\n",
       "      <td>2020-07-24</td>\n",
       "      <td>5</td>\n",
       "      <td>The Best</td>\n",
       "      <td>0</td>\n",
       "      <td>0</td>\n",
       "      <td>This is my favorite flavor...I can just buy on...</td>\n",
       "    </tr>\n",
       "  </tbody>\n",
       "</table>\n",
       "</div>"
      ],
      "text/plain": [
       "        key         author        date  stars  \\\n",
       "7938  56_bj  Shellyshellzs  2020-04-30      5   \n",
       "7939  56_bj         Or1234  2020-02-24      5   \n",
       "7940  56_bj          ava21  2020-01-31      5   \n",
       "7941  56_bj           yeee  2019-03-13      5   \n",
       "7942  56_bj       Ellehcar  2020-07-24      5   \n",
       "\n",
       "                                   title  helpful_yes  helpful_no  \\\n",
       "7938          Peanut butter fudge heaven            0           0   \n",
       "7939  The best Chocolate Ice Cream Combo            0           0   \n",
       "7940                           PERFECT!!            0           0   \n",
       "7941                        My favorite!            0           0   \n",
       "7942                            The Best            0           0   \n",
       "\n",
       "                                                   text  \n",
       "7938  Oh man I use to be a whatever was on sale girl...  \n",
       "7939  This is the first chocolate ice cream I’ve tri...  \n",
       "7940  This is the best pint of ice cream I've ever h...  \n",
       "7941  This is my favorite ice cream ever! Can't get ...  \n",
       "7942  This is my favorite flavor...I can just buy on...  "
      ]
     },
     "execution_count": 8,
     "metadata": {},
     "output_type": "execute_result"
    }
   ],
   "source": [
    "reviews.tail()"
   ]
  },
  {
   "cell_type": "code",
   "execution_count": 9,
   "metadata": {
    "ExecuteTime": {
     "end_time": "2022-05-19T21:49:11.637515Z",
     "start_time": "2022-05-19T21:49:11.627580Z"
    },
    "scrolled": true
   },
   "outputs": [
    {
     "data": {
      "text/html": [
       "<div>\n",
       "<style scoped>\n",
       "    .dataframe tbody tr th:only-of-type {\n",
       "        vertical-align: middle;\n",
       "    }\n",
       "\n",
       "    .dataframe tbody tr th {\n",
       "        vertical-align: top;\n",
       "    }\n",
       "\n",
       "    .dataframe thead th {\n",
       "        text-align: right;\n",
       "    }\n",
       "</style>\n",
       "<table border=\"1\" class=\"dataframe\">\n",
       "  <thead>\n",
       "    <tr style=\"text-align: right;\">\n",
       "      <th></th>\n",
       "      <th>key</th>\n",
       "      <th>author</th>\n",
       "      <th>date</th>\n",
       "      <th>stars</th>\n",
       "      <th>title</th>\n",
       "      <th>helpful_yes</th>\n",
       "      <th>helpful_no</th>\n",
       "      <th>text</th>\n",
       "    </tr>\n",
       "  </thead>\n",
       "  <tbody>\n",
       "    <tr>\n",
       "      <th>3542</th>\n",
       "      <td>22_bj</td>\n",
       "      <td>Mello</td>\n",
       "      <td>2018-03-27</td>\n",
       "      <td>5</td>\n",
       "      <td>BEST EVER</td>\n",
       "      <td>0</td>\n",
       "      <td>0</td>\n",
       "      <td>PLEASE always make this!!! LOVE LOVE LOVE!!!! ...</td>\n",
       "    </tr>\n",
       "    <tr>\n",
       "      <th>5091</th>\n",
       "      <td>31_bj</td>\n",
       "      <td>parliamentp</td>\n",
       "      <td>2019-01-05</td>\n",
       "      <td>4</td>\n",
       "      <td>NaN</td>\n",
       "      <td>0</td>\n",
       "      <td>0</td>\n",
       "      <td>Mint chocolate chip is my absolute favorite fl...</td>\n",
       "    </tr>\n",
       "    <tr>\n",
       "      <th>3867</th>\n",
       "      <td>24_bj</td>\n",
       "      <td>melodie</td>\n",
       "      <td>2020-09-10</td>\n",
       "      <td>5</td>\n",
       "      <td>she is delicious</td>\n",
       "      <td>0</td>\n",
       "      <td>0</td>\n",
       "      <td>you all are out of your minds, coffee toffee b...</td>\n",
       "    </tr>\n",
       "    <tr>\n",
       "      <th>630</th>\n",
       "      <td>4_bj</td>\n",
       "      <td>SmoreLove</td>\n",
       "      <td>2019-02-06</td>\n",
       "      <td>2</td>\n",
       "      <td>I will eat it because it is ice cream</td>\n",
       "      <td>0</td>\n",
       "      <td>0</td>\n",
       "      <td>I will eat it because it is ice cream, and B&amp;J...</td>\n",
       "    </tr>\n",
       "    <tr>\n",
       "      <th>4521</th>\n",
       "      <td>28_bj</td>\n",
       "      <td>Willp147</td>\n",
       "      <td>2020-01-12</td>\n",
       "      <td>5</td>\n",
       "      <td>The best!</td>\n",
       "      <td>0</td>\n",
       "      <td>0</td>\n",
       "      <td>This is hands down by far my favorite Ben and ...</td>\n",
       "    </tr>\n",
       "  </tbody>\n",
       "</table>\n",
       "</div>"
      ],
      "text/plain": [
       "        key       author        date  stars  \\\n",
       "3542  22_bj        Mello  2018-03-27      5   \n",
       "5091  31_bj  parliamentp  2019-01-05      4   \n",
       "3867  24_bj      melodie  2020-09-10      5   \n",
       "630    4_bj    SmoreLove  2019-02-06      2   \n",
       "4521  28_bj     Willp147  2020-01-12      5   \n",
       "\n",
       "                                      title  helpful_yes  helpful_no  \\\n",
       "3542                              BEST EVER            0           0   \n",
       "5091                                    NaN            0           0   \n",
       "3867                       she is delicious            0           0   \n",
       "630   I will eat it because it is ice cream            0           0   \n",
       "4521                              The best!            0           0   \n",
       "\n",
       "                                                   text  \n",
       "3542  PLEASE always make this!!! LOVE LOVE LOVE!!!! ...  \n",
       "5091  Mint chocolate chip is my absolute favorite fl...  \n",
       "3867  you all are out of your minds, coffee toffee b...  \n",
       "630   I will eat it because it is ice cream, and B&J...  \n",
       "4521  This is hands down by far my favorite Ben and ...  "
      ]
     },
     "execution_count": 9,
     "metadata": {},
     "output_type": "execute_result"
    }
   ],
   "source": [
    "reviews.sample(5)"
   ]
  },
  {
   "cell_type": "markdown",
   "metadata": {},
   "source": [
    "create a new view (a window into a dataframe where a dataframe is not copied) into the products dataframe.  Show only the names of the ice cream flavors and the rating of each flavor.  Display the first SEVEN rows."
   ]
  },
  {
   "cell_type": "code",
   "execution_count": 10,
   "metadata": {
    "ExecuteTime": {
     "end_time": "2022-05-19T21:49:11.648457Z",
     "start_time": "2022-05-19T21:49:11.640450Z"
    },
    "scrolled": true
   },
   "outputs": [
    {
     "data": {
      "text/html": [
       "<div>\n",
       "<style scoped>\n",
       "    .dataframe tbody tr th:only-of-type {\n",
       "        vertical-align: middle;\n",
       "    }\n",
       "\n",
       "    .dataframe tbody tr th {\n",
       "        vertical-align: top;\n",
       "    }\n",
       "\n",
       "    .dataframe thead th {\n",
       "        text-align: right;\n",
       "    }\n",
       "</style>\n",
       "<table border=\"1\" class=\"dataframe\">\n",
       "  <thead>\n",
       "    <tr style=\"text-align: right;\">\n",
       "      <th></th>\n",
       "      <th>name</th>\n",
       "      <th>rating</th>\n",
       "    </tr>\n",
       "  </thead>\n",
       "  <tbody>\n",
       "    <tr>\n",
       "      <th>0</th>\n",
       "      <td>Salted Caramel Core</td>\n",
       "      <td>3.7</td>\n",
       "    </tr>\n",
       "    <tr>\n",
       "      <th>1</th>\n",
       "      <td>Netflix &amp; Chilll'd™</td>\n",
       "      <td>4.0</td>\n",
       "    </tr>\n",
       "    <tr>\n",
       "      <th>2</th>\n",
       "      <td>Chip Happens</td>\n",
       "      <td>4.7</td>\n",
       "    </tr>\n",
       "    <tr>\n",
       "      <th>3</th>\n",
       "      <td>Cannoli</td>\n",
       "      <td>3.6</td>\n",
       "    </tr>\n",
       "    <tr>\n",
       "      <th>4</th>\n",
       "      <td>Gimme S’more!™</td>\n",
       "      <td>4.5</td>\n",
       "    </tr>\n",
       "    <tr>\n",
       "      <th>5</th>\n",
       "      <td>Peanut Butter Half Baked®</td>\n",
       "      <td>4.9</td>\n",
       "    </tr>\n",
       "    <tr>\n",
       "      <th>6</th>\n",
       "      <td>Berry Sweet Mascarpone</td>\n",
       "      <td>4.6</td>\n",
       "    </tr>\n",
       "  </tbody>\n",
       "</table>\n",
       "</div>"
      ],
      "text/plain": [
       "                        name  rating\n",
       "0        Salted Caramel Core     3.7\n",
       "1        Netflix & Chilll'd™     4.0\n",
       "2               Chip Happens     4.7\n",
       "3                    Cannoli     3.6\n",
       "4             Gimme S’more!™     4.5\n",
       "5  Peanut Butter Half Baked®     4.9\n",
       "6     Berry Sweet Mascarpone     4.6"
      ]
     },
     "execution_count": 10,
     "metadata": {},
     "output_type": "execute_result"
    }
   ],
   "source": [
    "products.loc[0:6, ['name', 'rating']]"
   ]
  },
  {
   "cell_type": "code",
   "execution_count": 11,
   "metadata": {
    "ExecuteTime": {
     "end_time": "2022-05-19T21:49:11.665107Z",
     "start_time": "2022-05-19T21:49:11.656496Z"
    },
    "scrolled": true
   },
   "outputs": [
    {
     "data": {
      "text/html": [
       "<div>\n",
       "<style scoped>\n",
       "    .dataframe tbody tr th:only-of-type {\n",
       "        vertical-align: middle;\n",
       "    }\n",
       "\n",
       "    .dataframe tbody tr th {\n",
       "        vertical-align: top;\n",
       "    }\n",
       "\n",
       "    .dataframe thead th {\n",
       "        text-align: right;\n",
       "    }\n",
       "</style>\n",
       "<table border=\"1\" class=\"dataframe\">\n",
       "  <thead>\n",
       "    <tr style=\"text-align: right;\">\n",
       "      <th></th>\n",
       "      <th>name</th>\n",
       "      <th>rating</th>\n",
       "    </tr>\n",
       "  </thead>\n",
       "  <tbody>\n",
       "    <tr>\n",
       "      <th>0</th>\n",
       "      <td>Salted Caramel Core</td>\n",
       "      <td>3.7</td>\n",
       "    </tr>\n",
       "    <tr>\n",
       "      <th>1</th>\n",
       "      <td>Netflix &amp; Chilll'd™</td>\n",
       "      <td>4.0</td>\n",
       "    </tr>\n",
       "    <tr>\n",
       "      <th>2</th>\n",
       "      <td>Chip Happens</td>\n",
       "      <td>4.7</td>\n",
       "    </tr>\n",
       "    <tr>\n",
       "      <th>3</th>\n",
       "      <td>Cannoli</td>\n",
       "      <td>3.6</td>\n",
       "    </tr>\n",
       "    <tr>\n",
       "      <th>4</th>\n",
       "      <td>Gimme S’more!™</td>\n",
       "      <td>4.5</td>\n",
       "    </tr>\n",
       "    <tr>\n",
       "      <th>5</th>\n",
       "      <td>Peanut Butter Half Baked®</td>\n",
       "      <td>4.9</td>\n",
       "    </tr>\n",
       "  </tbody>\n",
       "</table>\n",
       "</div>"
      ],
      "text/plain": [
       "                        name  rating\n",
       "0        Salted Caramel Core     3.7\n",
       "1        Netflix & Chilll'd™     4.0\n",
       "2               Chip Happens     4.7\n",
       "3                    Cannoli     3.6\n",
       "4             Gimme S’more!™     4.5\n",
       "5  Peanut Butter Half Baked®     4.9"
      ]
     },
     "execution_count": 11,
     "metadata": {},
     "output_type": "execute_result"
    }
   ],
   "source": [
    "products.iloc[0:6, [1, 4]]"
   ]
  },
  {
   "cell_type": "markdown",
   "metadata": {},
   "source": [
    "Notice the differences in the indexes being used to display rows in the loc and iloc functions. Read more about the differences/similarities between these 2 functions [here](!https://stackoverflow.com/questions/31593201/how-are-iloc-and-loc-different)"
   ]
  },
  {
   "cell_type": "code",
   "execution_count": 12,
   "metadata": {
    "ExecuteTime": {
     "end_time": "2022-05-19T21:49:11.676554Z",
     "start_time": "2022-05-19T21:49:11.666967Z"
    },
    "scrolled": true
   },
   "outputs": [
    {
     "data": {
      "text/html": [
       "<div>\n",
       "<style scoped>\n",
       "    .dataframe tbody tr th:only-of-type {\n",
       "        vertical-align: middle;\n",
       "    }\n",
       "\n",
       "    .dataframe tbody tr th {\n",
       "        vertical-align: top;\n",
       "    }\n",
       "\n",
       "    .dataframe thead th {\n",
       "        text-align: right;\n",
       "    }\n",
       "</style>\n",
       "<table border=\"1\" class=\"dataframe\">\n",
       "  <thead>\n",
       "    <tr style=\"text-align: right;\">\n",
       "      <th></th>\n",
       "      <th>name</th>\n",
       "      <th>rating</th>\n",
       "    </tr>\n",
       "  </thead>\n",
       "  <tbody>\n",
       "    <tr>\n",
       "      <th>0</th>\n",
       "      <td>Salted Caramel Core</td>\n",
       "      <td>3.7</td>\n",
       "    </tr>\n",
       "    <tr>\n",
       "      <th>1</th>\n",
       "      <td>Netflix &amp; Chilll'd™</td>\n",
       "      <td>4.0</td>\n",
       "    </tr>\n",
       "    <tr>\n",
       "      <th>2</th>\n",
       "      <td>Chip Happens</td>\n",
       "      <td>4.7</td>\n",
       "    </tr>\n",
       "    <tr>\n",
       "      <th>3</th>\n",
       "      <td>Cannoli</td>\n",
       "      <td>3.6</td>\n",
       "    </tr>\n",
       "    <tr>\n",
       "      <th>4</th>\n",
       "      <td>Gimme S’more!™</td>\n",
       "      <td>4.5</td>\n",
       "    </tr>\n",
       "    <tr>\n",
       "      <th>5</th>\n",
       "      <td>Peanut Butter Half Baked®</td>\n",
       "      <td>4.9</td>\n",
       "    </tr>\n",
       "    <tr>\n",
       "      <th>6</th>\n",
       "      <td>Berry Sweet Mascarpone</td>\n",
       "      <td>4.6</td>\n",
       "    </tr>\n",
       "  </tbody>\n",
       "</table>\n",
       "</div>"
      ],
      "text/plain": [
       "                        name  rating\n",
       "0        Salted Caramel Core     3.7\n",
       "1        Netflix & Chilll'd™     4.0\n",
       "2               Chip Happens     4.7\n",
       "3                    Cannoli     3.6\n",
       "4             Gimme S’more!™     4.5\n",
       "5  Peanut Butter Half Baked®     4.9\n",
       "6     Berry Sweet Mascarpone     4.6"
      ]
     },
     "execution_count": 12,
     "metadata": {},
     "output_type": "execute_result"
    }
   ],
   "source": [
    "products[['name', 'rating']][0:7]"
   ]
  },
  {
   "cell_type": "code",
   "execution_count": 13,
   "metadata": {
    "ExecuteTime": {
     "end_time": "2022-05-19T21:49:11.687597Z",
     "start_time": "2022-05-19T21:49:11.678071Z"
    }
   },
   "outputs": [
    {
     "data": {
      "text/html": [
       "<div>\n",
       "<style scoped>\n",
       "    .dataframe tbody tr th:only-of-type {\n",
       "        vertical-align: middle;\n",
       "    }\n",
       "\n",
       "    .dataframe tbody tr th {\n",
       "        vertical-align: top;\n",
       "    }\n",
       "\n",
       "    .dataframe thead th {\n",
       "        text-align: right;\n",
       "    }\n",
       "</style>\n",
       "<table border=\"1\" class=\"dataframe\">\n",
       "  <thead>\n",
       "    <tr style=\"text-align: right;\">\n",
       "      <th></th>\n",
       "      <th>name</th>\n",
       "      <th>rating</th>\n",
       "    </tr>\n",
       "  </thead>\n",
       "  <tbody>\n",
       "    <tr>\n",
       "      <th>0</th>\n",
       "      <td>Salted Caramel Core</td>\n",
       "      <td>3.7</td>\n",
       "    </tr>\n",
       "    <tr>\n",
       "      <th>1</th>\n",
       "      <td>Netflix &amp; Chilll'd™</td>\n",
       "      <td>4.0</td>\n",
       "    </tr>\n",
       "    <tr>\n",
       "      <th>2</th>\n",
       "      <td>Chip Happens</td>\n",
       "      <td>4.7</td>\n",
       "    </tr>\n",
       "    <tr>\n",
       "      <th>3</th>\n",
       "      <td>Cannoli</td>\n",
       "      <td>3.6</td>\n",
       "    </tr>\n",
       "    <tr>\n",
       "      <th>4</th>\n",
       "      <td>Gimme S’more!™</td>\n",
       "      <td>4.5</td>\n",
       "    </tr>\n",
       "    <tr>\n",
       "      <th>5</th>\n",
       "      <td>Peanut Butter Half Baked®</td>\n",
       "      <td>4.9</td>\n",
       "    </tr>\n",
       "    <tr>\n",
       "      <th>6</th>\n",
       "      <td>Berry Sweet Mascarpone</td>\n",
       "      <td>4.6</td>\n",
       "    </tr>\n",
       "  </tbody>\n",
       "</table>\n",
       "</div>"
      ],
      "text/plain": [
       "                        name  rating\n",
       "0        Salted Caramel Core     3.7\n",
       "1        Netflix & Chilll'd™     4.0\n",
       "2               Chip Happens     4.7\n",
       "3                    Cannoli     3.6\n",
       "4             Gimme S’more!™     4.5\n",
       "5  Peanut Butter Half Baked®     4.9\n",
       "6     Berry Sweet Mascarpone     4.6"
      ]
     },
     "execution_count": 13,
     "metadata": {},
     "output_type": "execute_result"
    }
   ],
   "source": [
    "products[['name', 'rating']].head(7)"
   ]
  },
  {
   "cell_type": "markdown",
   "metadata": {},
   "source": [
    "# Explore Data"
   ]
  },
  {
   "cell_type": "markdown",
   "metadata": {},
   "source": [
    "Now print the shape of each dataframe, the number of rows and columns it contains"
   ]
  },
  {
   "cell_type": "code",
   "execution_count": 14,
   "metadata": {
    "ExecuteTime": {
     "end_time": "2022-05-19T21:49:11.693793Z",
     "start_time": "2022-05-19T21:49:11.689961Z"
    }
   },
   "outputs": [
    {
     "name": "stdout",
     "output_type": "stream",
     "text": [
      "Shape of reviews: (7943, 8)\n",
      "Shape of products: (57, 7)\n"
     ]
    }
   ],
   "source": [
    "print('Shape of reviews:', reviews.shape)\n",
    "print('Shape of products:', products.shape)"
   ]
  },
  {
   "cell_type": "markdown",
   "metadata": {},
   "source": [
    "Next, use 1 method for each dataframe to examine the names of the columns, data types, and number of non-null values."
   ]
  },
  {
   "cell_type": "code",
   "execution_count": 15,
   "metadata": {
    "ExecuteTime": {
     "end_time": "2022-05-19T21:49:11.708612Z",
     "start_time": "2022-05-19T21:49:11.695604Z"
    }
   },
   "outputs": [
    {
     "name": "stdout",
     "output_type": "stream",
     "text": [
      "<class 'pandas.core.frame.DataFrame'>\n",
      "RangeIndex: 57 entries, 0 to 56\n",
      "Data columns (total 7 columns):\n",
      " #   Column        Non-Null Count  Dtype  \n",
      "---  ------        --------------  -----  \n",
      " 0   key           57 non-null     object \n",
      " 1   name          57 non-null     object \n",
      " 2   subhead       57 non-null     object \n",
      " 3   description   57 non-null     object \n",
      " 4   rating        57 non-null     float64\n",
      " 5   rating_count  57 non-null     int64  \n",
      " 6   ingredients   57 non-null     object \n",
      "dtypes: float64(1), int64(1), object(5)\n",
      "memory usage: 3.2+ KB\n"
     ]
    }
   ],
   "source": [
    "products.info()"
   ]
  },
  {
   "cell_type": "code",
   "execution_count": 16,
   "metadata": {
    "ExecuteTime": {
     "end_time": "2022-05-19T21:49:11.722104Z",
     "start_time": "2022-05-19T21:49:11.710998Z"
    }
   },
   "outputs": [
    {
     "name": "stdout",
     "output_type": "stream",
     "text": [
      "<class 'pandas.core.frame.DataFrame'>\n",
      "RangeIndex: 7943 entries, 0 to 7942\n",
      "Data columns (total 8 columns):\n",
      " #   Column       Non-Null Count  Dtype \n",
      "---  ------       --------------  ----- \n",
      " 0   key          7943 non-null   object\n",
      " 1   author       7659 non-null   object\n",
      " 2   date         7943 non-null   object\n",
      " 3   stars        7943 non-null   int64 \n",
      " 4   title        5332 non-null   object\n",
      " 5   helpful_yes  7943 non-null   int64 \n",
      " 6   helpful_no   7943 non-null   int64 \n",
      " 7   text         7943 non-null   object\n",
      "dtypes: int64(3), object(5)\n",
      "memory usage: 496.6+ KB\n"
     ]
    }
   ],
   "source": [
    "reviews.info()"
   ]
  },
  {
   "cell_type": "markdown",
   "metadata": {
    "ExecuteTime": {
     "end_time": "2021-09-29T22:34:04.510412Z",
     "start_time": "2021-09-29T22:34:04.506327Z"
    }
   },
   "source": [
    "Do either dataframe have missing values? If so, print the number of missing values in each column. This will require chaining 2 methods."
   ]
  },
  {
   "cell_type": "code",
   "execution_count": 17,
   "metadata": {
    "ExecuteTime": {
     "end_time": "2022-05-19T21:49:11.731966Z",
     "start_time": "2022-05-19T21:49:11.724045Z"
    }
   },
   "outputs": [
    {
     "data": {
      "text/plain": [
       "key               0\n",
       "author          284\n",
       "date              0\n",
       "stars             0\n",
       "title          2611\n",
       "helpful_yes       0\n",
       "helpful_no        0\n",
       "text              0\n",
       "dtype: int64"
      ]
     },
     "execution_count": 17,
     "metadata": {},
     "output_type": "execute_result"
    }
   ],
   "source": [
    "reviews.isna().sum()"
   ]
  },
  {
   "cell_type": "markdown",
   "metadata": {},
   "source": [
    "# Remove Null Values"
   ]
  },
  {
   "cell_type": "markdown",
   "metadata": {},
   "source": [
    "If a column from one of the datasets was missing any data, we need to deal with that.  Our machine learning algorithms might throw an error if our datasets are missing data.\n",
    "\n",
    "For each column with missing data:\n",
    "1. if the column is missing >= 10% of the data, drop the **COLUMN**.\n",
    "2. if the column is missing < 10% of the data, drop the **ROWS** that are missing data."
   ]
  },
  {
   "cell_type": "code",
   "execution_count": 18,
   "metadata": {
    "ExecuteTime": {
     "end_time": "2022-05-19T21:49:11.887854Z",
     "start_time": "2022-05-19T21:49:11.733723Z"
    }
   },
   "outputs": [
    {
     "data": {
      "text/plain": [
       "key             0.000000\n",
       "author          3.575475\n",
       "date            0.000000\n",
       "stars           0.000000\n",
       "title          32.871711\n",
       "helpful_yes     0.000000\n",
       "helpful_no      0.000000\n",
       "text            0.000000\n",
       "dtype: float64"
      ]
     },
     "execution_count": 18,
     "metadata": {},
     "output_type": "execute_result"
    }
   ],
   "source": [
    "reviews.isna().sum()/len(reviews) * 100"
   ]
  },
  {
   "cell_type": "code",
   "execution_count": 19,
   "metadata": {
    "ExecuteTime": {
     "end_time": "2022-05-19T21:49:11.902956Z",
     "start_time": "2022-05-19T21:49:11.890231Z"
    },
    "scrolled": true
   },
   "outputs": [
    {
     "data": {
      "text/html": [
       "<div>\n",
       "<style scoped>\n",
       "    .dataframe tbody tr th:only-of-type {\n",
       "        vertical-align: middle;\n",
       "    }\n",
       "\n",
       "    .dataframe tbody tr th {\n",
       "        vertical-align: top;\n",
       "    }\n",
       "\n",
       "    .dataframe thead th {\n",
       "        text-align: right;\n",
       "    }\n",
       "</style>\n",
       "<table border=\"1\" class=\"dataframe\">\n",
       "  <thead>\n",
       "    <tr style=\"text-align: right;\">\n",
       "      <th></th>\n",
       "      <th>key</th>\n",
       "      <th>author</th>\n",
       "      <th>date</th>\n",
       "      <th>stars</th>\n",
       "      <th>helpful_yes</th>\n",
       "      <th>helpful_no</th>\n",
       "      <th>text</th>\n",
       "    </tr>\n",
       "  </thead>\n",
       "  <tbody>\n",
       "    <tr>\n",
       "      <th>0</th>\n",
       "      <td>0_bj</td>\n",
       "      <td>Ilovebennjerry</td>\n",
       "      <td>2017-04-15</td>\n",
       "      <td>3</td>\n",
       "      <td>10</td>\n",
       "      <td>3</td>\n",
       "      <td>Super good, don't get me wrong. But I came for...</td>\n",
       "    </tr>\n",
       "    <tr>\n",
       "      <th>1</th>\n",
       "      <td>0_bj</td>\n",
       "      <td>Sweettooth909</td>\n",
       "      <td>2020-01-05</td>\n",
       "      <td>5</td>\n",
       "      <td>3</td>\n",
       "      <td>0</td>\n",
       "      <td>I decided to try it out although I’m not a hug...</td>\n",
       "    </tr>\n",
       "    <tr>\n",
       "      <th>2</th>\n",
       "      <td>0_bj</td>\n",
       "      <td>LaTanga71</td>\n",
       "      <td>2018-04-26</td>\n",
       "      <td>3</td>\n",
       "      <td>5</td>\n",
       "      <td>2</td>\n",
       "      <td>My caramel core begins to disappear about half...</td>\n",
       "    </tr>\n",
       "    <tr>\n",
       "      <th>3</th>\n",
       "      <td>0_bj</td>\n",
       "      <td>chicago220</td>\n",
       "      <td>2018-01-14</td>\n",
       "      <td>5</td>\n",
       "      <td>24</td>\n",
       "      <td>1</td>\n",
       "      <td>Why are people complaining about the blonde br...</td>\n",
       "    </tr>\n",
       "    <tr>\n",
       "      <th>4</th>\n",
       "      <td>0_bj</td>\n",
       "      <td>Kassidyk</td>\n",
       "      <td>2020-07-24</td>\n",
       "      <td>1</td>\n",
       "      <td>1</td>\n",
       "      <td>5</td>\n",
       "      <td>This ice cream is worst ice cream I’ve ever ta...</td>\n",
       "    </tr>\n",
       "    <tr>\n",
       "      <th>...</th>\n",
       "      <td>...</td>\n",
       "      <td>...</td>\n",
       "      <td>...</td>\n",
       "      <td>...</td>\n",
       "      <td>...</td>\n",
       "      <td>...</td>\n",
       "      <td>...</td>\n",
       "    </tr>\n",
       "    <tr>\n",
       "      <th>7938</th>\n",
       "      <td>56_bj</td>\n",
       "      <td>Shellyshellzs</td>\n",
       "      <td>2020-04-30</td>\n",
       "      <td>5</td>\n",
       "      <td>0</td>\n",
       "      <td>0</td>\n",
       "      <td>Oh man I use to be a whatever was on sale girl...</td>\n",
       "    </tr>\n",
       "    <tr>\n",
       "      <th>7939</th>\n",
       "      <td>56_bj</td>\n",
       "      <td>Or1234</td>\n",
       "      <td>2020-02-24</td>\n",
       "      <td>5</td>\n",
       "      <td>0</td>\n",
       "      <td>0</td>\n",
       "      <td>This is the first chocolate ice cream I’ve tri...</td>\n",
       "    </tr>\n",
       "    <tr>\n",
       "      <th>7940</th>\n",
       "      <td>56_bj</td>\n",
       "      <td>ava21</td>\n",
       "      <td>2020-01-31</td>\n",
       "      <td>5</td>\n",
       "      <td>0</td>\n",
       "      <td>0</td>\n",
       "      <td>This is the best pint of ice cream I've ever h...</td>\n",
       "    </tr>\n",
       "    <tr>\n",
       "      <th>7941</th>\n",
       "      <td>56_bj</td>\n",
       "      <td>yeee</td>\n",
       "      <td>2019-03-13</td>\n",
       "      <td>5</td>\n",
       "      <td>0</td>\n",
       "      <td>0</td>\n",
       "      <td>This is my favorite ice cream ever! Can't get ...</td>\n",
       "    </tr>\n",
       "    <tr>\n",
       "      <th>7942</th>\n",
       "      <td>56_bj</td>\n",
       "      <td>Ellehcar</td>\n",
       "      <td>2020-07-24</td>\n",
       "      <td>5</td>\n",
       "      <td>0</td>\n",
       "      <td>0</td>\n",
       "      <td>This is my favorite flavor...I can just buy on...</td>\n",
       "    </tr>\n",
       "  </tbody>\n",
       "</table>\n",
       "<p>7943 rows × 7 columns</p>\n",
       "</div>"
      ],
      "text/plain": [
       "        key          author        date  stars  helpful_yes  helpful_no  \\\n",
       "0      0_bj  Ilovebennjerry  2017-04-15      3           10           3   \n",
       "1      0_bj   Sweettooth909  2020-01-05      5            3           0   \n",
       "2      0_bj       LaTanga71  2018-04-26      3            5           2   \n",
       "3      0_bj      chicago220  2018-01-14      5           24           1   \n",
       "4      0_bj        Kassidyk  2020-07-24      1            1           5   \n",
       "...     ...             ...         ...    ...          ...         ...   \n",
       "7938  56_bj   Shellyshellzs  2020-04-30      5            0           0   \n",
       "7939  56_bj          Or1234  2020-02-24      5            0           0   \n",
       "7940  56_bj           ava21  2020-01-31      5            0           0   \n",
       "7941  56_bj            yeee  2019-03-13      5            0           0   \n",
       "7942  56_bj        Ellehcar  2020-07-24      5            0           0   \n",
       "\n",
       "                                                   text  \n",
       "0     Super good, don't get me wrong. But I came for...  \n",
       "1     I decided to try it out although I’m not a hug...  \n",
       "2     My caramel core begins to disappear about half...  \n",
       "3     Why are people complaining about the blonde br...  \n",
       "4     This ice cream is worst ice cream I’ve ever ta...  \n",
       "...                                                 ...  \n",
       "7938  Oh man I use to be a whatever was on sale girl...  \n",
       "7939  This is the first chocolate ice cream I’ve tri...  \n",
       "7940  This is the best pint of ice cream I've ever h...  \n",
       "7941  This is my favorite ice cream ever! Can't get ...  \n",
       "7942  This is my favorite flavor...I can just buy on...  \n",
       "\n",
       "[7943 rows x 7 columns]"
      ]
     },
     "execution_count": 19,
     "metadata": {},
     "output_type": "execute_result"
    }
   ],
   "source": [
    "reviews.drop('title', axis = 1)"
   ]
  },
  {
   "cell_type": "code",
   "execution_count": 22,
   "metadata": {
    "ExecuteTime": {
     "end_time": "2022-05-19T21:51:06.270292Z",
     "start_time": "2022-05-19T21:51:06.263750Z"
    }
   },
   "outputs": [],
   "source": [
    "reviews = reviews.dropna(axis = 1, thresh=0.9*len(reviews))"
   ]
  },
  {
   "cell_type": "code",
   "execution_count": 23,
   "metadata": {
    "ExecuteTime": {
     "end_time": "2022-05-19T21:51:16.717905Z",
     "start_time": "2022-05-19T21:51:16.711314Z"
    }
   },
   "outputs": [
    {
     "data": {
      "text/plain": [
       "key              0\n",
       "author         284\n",
       "date             0\n",
       "stars            0\n",
       "helpful_yes      0\n",
       "helpful_no       0\n",
       "text             0\n",
       "dtype: int64"
      ]
     },
     "execution_count": 23,
     "metadata": {},
     "output_type": "execute_result"
    }
   ],
   "source": [
    "reviews.isna().sum()"
   ]
  },
  {
   "cell_type": "code",
   "execution_count": 27,
   "metadata": {
    "ExecuteTime": {
     "end_time": "2022-05-19T21:52:05.082448Z",
     "start_time": "2022-05-19T21:52:05.076151Z"
    }
   },
   "outputs": [
    {
     "name": "stderr",
     "output_type": "stream",
     "text": [
      "<ipython-input-27-e319ff0e7add>:1: SettingWithCopyWarning: \n",
      "A value is trying to be set on a copy of a slice from a DataFrame\n",
      "\n",
      "See the caveats in the documentation: https://pandas.pydata.org/pandas-docs/stable/user_guide/indexing.html#returning-a-view-versus-a-copy\n",
      "  reviews.dropna(axis = 0, inplace=True)\n"
     ]
    }
   ],
   "source": [
    "reviews.dropna(axis = 0, inplace=True)"
   ]
  },
  {
   "cell_type": "markdown",
   "metadata": {},
   "source": [
    "Verify that your dataset no longer contains missing values"
   ]
  },
  {
   "cell_type": "code",
   "execution_count": 28,
   "metadata": {
    "ExecuteTime": {
     "end_time": "2022-05-19T21:52:22.776909Z",
     "start_time": "2022-05-19T21:52:22.769022Z"
    }
   },
   "outputs": [
    {
     "data": {
      "text/plain": [
       "key            0\n",
       "author         0\n",
       "date           0\n",
       "stars          0\n",
       "helpful_yes    0\n",
       "helpful_no     0\n",
       "text           0\n",
       "dtype: int64"
      ]
     },
     "execution_count": 28,
     "metadata": {},
     "output_type": "execute_result"
    }
   ],
   "source": [
    "reviews.isna().sum()"
   ]
  },
  {
   "cell_type": "markdown",
   "metadata": {},
   "source": [
    "# Final Challenge: Join the Tables!\n",
    "\n",
    "Both tables have a column labeled 'key'.  This column connects these tables by assigning each flavor a unique key and adding it to the reviews table so the keys for the flavors in 'products' matches the keys for flavor that each review describes.\n",
    "\n",
    "Our last step will be to join the two tables so that the information from each flavor in the 'product' table is combined with each review in the 'reviews' table.\n",
    "\n",
    "Name the resulting table 'icecream'"
   ]
  },
  {
   "cell_type": "code",
   "execution_count": 30,
   "metadata": {
    "ExecuteTime": {
     "end_time": "2022-05-19T21:55:12.362347Z",
     "start_time": "2022-05-19T21:55:12.351783Z"
    }
   },
   "outputs": [],
   "source": [
    "icecream = pd.merge(reviews, products, on = 'key')"
   ]
  },
  {
   "cell_type": "markdown",
   "metadata": {},
   "source": [
    "Verify that 'icecream' now contains data from both 'reviews' and 'products' by displaying a random sample of 3 rows.  \n",
    "\n",
    "Also, verify that 'icecream' has the same number of rows as 'reviews' and a number of columns equal to the sum of the number of columns from 'reviews' and 'products' minus 1.  (Why minus one?)"
   ]
  },
  {
   "cell_type": "code",
   "execution_count": 31,
   "metadata": {
    "ExecuteTime": {
     "end_time": "2022-05-19T21:55:26.791218Z",
     "start_time": "2022-05-19T21:55:26.788456Z"
    }
   },
   "outputs": [
    {
     "data": {
      "text/plain": [
       "(7659, 13)"
      ]
     },
     "execution_count": 31,
     "metadata": {},
     "output_type": "execute_result"
    }
   ],
   "source": [
    "icecream.shape"
   ]
  },
  {
   "cell_type": "code",
   "execution_count": 32,
   "metadata": {
    "ExecuteTime": {
     "end_time": "2022-05-19T21:55:59.905886Z",
     "start_time": "2022-05-19T21:55:59.889182Z"
    }
   },
   "outputs": [
    {
     "name": "stdout",
     "output_type": "stream",
     "text": [
      "<class 'pandas.core.frame.DataFrame'>\n",
      "Int64Index: 7659 entries, 0 to 7658\n",
      "Data columns (total 13 columns):\n",
      " #   Column        Non-Null Count  Dtype  \n",
      "---  ------        --------------  -----  \n",
      " 0   key           7659 non-null   object \n",
      " 1   author        7659 non-null   object \n",
      " 2   date          7659 non-null   object \n",
      " 3   stars         7659 non-null   int64  \n",
      " 4   helpful_yes   7659 non-null   int64  \n",
      " 5   helpful_no    7659 non-null   int64  \n",
      " 6   text          7659 non-null   object \n",
      " 7   name          7659 non-null   object \n",
      " 8   subhead       7659 non-null   object \n",
      " 9   description   7659 non-null   object \n",
      " 10  rating        7659 non-null   float64\n",
      " 11  rating_count  7659 non-null   int64  \n",
      " 12  ingredients   7659 non-null   object \n",
      "dtypes: float64(1), int64(4), object(8)\n",
      "memory usage: 837.7+ KB\n"
     ]
    }
   ],
   "source": [
    "icecream.info()"
   ]
  },
  {
   "cell_type": "markdown",
   "metadata": {},
   "source": [
    "How are the data ordered? Let's order them by flavor and then by date."
   ]
  },
  {
   "cell_type": "code",
   "execution_count": 33,
   "metadata": {
    "ExecuteTime": {
     "end_time": "2022-05-19T21:56:52.704939Z",
     "start_time": "2022-05-19T21:56:52.696076Z"
    }
   },
   "outputs": [],
   "source": [
    "icecream = icecream.sort_values(by=['name', 'date'])"
   ]
  },
  {
   "cell_type": "code",
   "execution_count": 34,
   "metadata": {
    "ExecuteTime": {
     "end_time": "2022-05-19T21:57:02.417514Z",
     "start_time": "2022-05-19T21:57:02.405558Z"
    }
   },
   "outputs": [
    {
     "data": {
      "text/html": [
       "<div>\n",
       "<style scoped>\n",
       "    .dataframe tbody tr th:only-of-type {\n",
       "        vertical-align: middle;\n",
       "    }\n",
       "\n",
       "    .dataframe tbody tr th {\n",
       "        vertical-align: top;\n",
       "    }\n",
       "\n",
       "    .dataframe thead th {\n",
       "        text-align: right;\n",
       "    }\n",
       "</style>\n",
       "<table border=\"1\" class=\"dataframe\">\n",
       "  <thead>\n",
       "    <tr style=\"text-align: right;\">\n",
       "      <th></th>\n",
       "      <th>key</th>\n",
       "      <th>author</th>\n",
       "      <th>date</th>\n",
       "      <th>stars</th>\n",
       "      <th>helpful_yes</th>\n",
       "      <th>helpful_no</th>\n",
       "      <th>text</th>\n",
       "      <th>name</th>\n",
       "      <th>subhead</th>\n",
       "      <th>description</th>\n",
       "      <th>rating</th>\n",
       "      <th>rating_count</th>\n",
       "      <th>ingredients</th>\n",
       "    </tr>\n",
       "  </thead>\n",
       "  <tbody>\n",
       "    <tr>\n",
       "      <th>992</th>\n",
       "      <td>10_bj</td>\n",
       "      <td>Flavor Reviewer</td>\n",
       "      <td>2017-04-12</td>\n",
       "      <td>5</td>\n",
       "      <td>5</td>\n",
       "      <td>3</td>\n",
       "      <td>Excellent! This flavor has all sorts of things...</td>\n",
       "      <td>Americone Dream®</td>\n",
       "      <td>Vanilla Ice Cream with Fudge-Covered Waffle Co...</td>\n",
       "      <td>Founded in fudge-covered waffle cones, this ca...</td>\n",
       "      <td>4.7</td>\n",
       "      <td>370</td>\n",
       "      <td>CREAM, SKIM MILK, LIQUID SUGAR (SUGAR, WATER),...</td>\n",
       "    </tr>\n",
       "    <tr>\n",
       "      <th>980</th>\n",
       "      <td>10_bj</td>\n",
       "      <td>Americone Dream Lover</td>\n",
       "      <td>2017-04-27</td>\n",
       "      <td>5</td>\n",
       "      <td>15</td>\n",
       "      <td>3</td>\n",
       "      <td>I eat a pint when I am sad, I eat a pint when ...</td>\n",
       "      <td>Americone Dream®</td>\n",
       "      <td>Vanilla Ice Cream with Fudge-Covered Waffle Co...</td>\n",
       "      <td>Founded in fudge-covered waffle cones, this ca...</td>\n",
       "      <td>4.7</td>\n",
       "      <td>370</td>\n",
       "      <td>CREAM, SKIM MILK, LIQUID SUGAR (SUGAR, WATER),...</td>\n",
       "    </tr>\n",
       "    <tr>\n",
       "      <th>1156</th>\n",
       "      <td>10_bj</td>\n",
       "      <td>KellyCrayon</td>\n",
       "      <td>2017-05-13</td>\n",
       "      <td>5</td>\n",
       "      <td>0</td>\n",
       "      <td>1</td>\n",
       "      <td>My absolute favorite of all of Ben and Jerry's...</td>\n",
       "      <td>Americone Dream®</td>\n",
       "      <td>Vanilla Ice Cream with Fudge-Covered Waffle Co...</td>\n",
       "      <td>Founded in fudge-covered waffle cones, this ca...</td>\n",
       "      <td>4.7</td>\n",
       "      <td>370</td>\n",
       "      <td>CREAM, SKIM MILK, LIQUID SUGAR (SUGAR, WATER),...</td>\n",
       "    </tr>\n",
       "    <tr>\n",
       "      <th>1006</th>\n",
       "      <td>10_bj</td>\n",
       "      <td>Ana808</td>\n",
       "      <td>2017-06-13</td>\n",
       "      <td>3</td>\n",
       "      <td>1</td>\n",
       "      <td>1</td>\n",
       "      <td>I decided to go with something out of the blue...</td>\n",
       "      <td>Americone Dream®</td>\n",
       "      <td>Vanilla Ice Cream with Fudge-Covered Waffle Co...</td>\n",
       "      <td>Founded in fudge-covered waffle cones, this ca...</td>\n",
       "      <td>4.7</td>\n",
       "      <td>370</td>\n",
       "      <td>CREAM, SKIM MILK, LIQUID SUGAR (SUGAR, WATER),...</td>\n",
       "    </tr>\n",
       "    <tr>\n",
       "      <th>1027</th>\n",
       "      <td>10_bj</td>\n",
       "      <td>Jennibobunni</td>\n",
       "      <td>2017-06-14</td>\n",
       "      <td>5</td>\n",
       "      <td>0</td>\n",
       "      <td>0</td>\n",
       "      <td>My favorite ice cream in this world! For a lon...</td>\n",
       "      <td>Americone Dream®</td>\n",
       "      <td>Vanilla Ice Cream with Fudge-Covered Waffle Co...</td>\n",
       "      <td>Founded in fudge-covered waffle cones, this ca...</td>\n",
       "      <td>4.7</td>\n",
       "      <td>370</td>\n",
       "      <td>CREAM, SKIM MILK, LIQUID SUGAR (SUGAR, WATER),...</td>\n",
       "    </tr>\n",
       "  </tbody>\n",
       "</table>\n",
       "</div>"
      ],
      "text/plain": [
       "        key                 author        date  stars  helpful_yes  \\\n",
       "992   10_bj        Flavor Reviewer  2017-04-12      5            5   \n",
       "980   10_bj  Americone Dream Lover  2017-04-27      5           15   \n",
       "1156  10_bj            KellyCrayon  2017-05-13      5            0   \n",
       "1006  10_bj                 Ana808  2017-06-13      3            1   \n",
       "1027  10_bj           Jennibobunni  2017-06-14      5            0   \n",
       "\n",
       "      helpful_no                                               text  \\\n",
       "992            3  Excellent! This flavor has all sorts of things...   \n",
       "980            3  I eat a pint when I am sad, I eat a pint when ...   \n",
       "1156           1  My absolute favorite of all of Ben and Jerry's...   \n",
       "1006           1  I decided to go with something out of the blue...   \n",
       "1027           0  My favorite ice cream in this world! For a lon...   \n",
       "\n",
       "                  name                                            subhead  \\\n",
       "992   Americone Dream®  Vanilla Ice Cream with Fudge-Covered Waffle Co...   \n",
       "980   Americone Dream®  Vanilla Ice Cream with Fudge-Covered Waffle Co...   \n",
       "1156  Americone Dream®  Vanilla Ice Cream with Fudge-Covered Waffle Co...   \n",
       "1006  Americone Dream®  Vanilla Ice Cream with Fudge-Covered Waffle Co...   \n",
       "1027  Americone Dream®  Vanilla Ice Cream with Fudge-Covered Waffle Co...   \n",
       "\n",
       "                                            description  rating  rating_count  \\\n",
       "992   Founded in fudge-covered waffle cones, this ca...     4.7           370   \n",
       "980   Founded in fudge-covered waffle cones, this ca...     4.7           370   \n",
       "1156  Founded in fudge-covered waffle cones, this ca...     4.7           370   \n",
       "1006  Founded in fudge-covered waffle cones, this ca...     4.7           370   \n",
       "1027  Founded in fudge-covered waffle cones, this ca...     4.7           370   \n",
       "\n",
       "                                            ingredients  \n",
       "992   CREAM, SKIM MILK, LIQUID SUGAR (SUGAR, WATER),...  \n",
       "980   CREAM, SKIM MILK, LIQUID SUGAR (SUGAR, WATER),...  \n",
       "1156  CREAM, SKIM MILK, LIQUID SUGAR (SUGAR, WATER),...  \n",
       "1006  CREAM, SKIM MILK, LIQUID SUGAR (SUGAR, WATER),...  \n",
       "1027  CREAM, SKIM MILK, LIQUID SUGAR (SUGAR, WATER),...  "
      ]
     },
     "execution_count": 34,
     "metadata": {},
     "output_type": "execute_result"
    }
   ],
   "source": [
    "icecream.head()"
   ]
  },
  {
   "cell_type": "markdown",
   "metadata": {},
   "source": [
    "# Congratulations!\n",
    "\n",
    "You have:\n",
    "1. loaded two tables into dataframes\n",
    "2. viewed the beginning, end, and random samples of the tables\n",
    "3. examined the shape, feature names, and data types in the tables\n",
    "4. detected and removed missing values in two different ways\n",
    "5. joined the two tables into one using a key"
   ]
  },
  {
   "cell_type": "code",
   "execution_count": null,
   "metadata": {},
   "outputs": [],
   "source": []
  }
 ],
 "metadata": {
  "kernelspec": {
   "display_name": "Python 3",
   "language": "python",
   "name": "python3"
  },
  "language_info": {
   "codemirror_mode": {
    "name": "ipython",
    "version": 3
   },
   "file_extension": ".py",
   "mimetype": "text/x-python",
   "name": "python",
   "nbconvert_exporter": "python",
   "pygments_lexer": "ipython3",
   "version": "3.8.5"
  },
  "toc": {
   "base_numbering": 1,
   "nav_menu": {},
   "number_sections": true,
   "sideBar": true,
   "skip_h1_title": false,
   "title_cell": "Table of Contents",
   "title_sidebar": "Contents",
   "toc_cell": false,
   "toc_position": {},
   "toc_section_display": true,
   "toc_window_display": false
  },
  "varInspector": {
   "cols": {
    "lenName": 16,
    "lenType": 16,
    "lenVar": 40
   },
   "kernels_config": {
    "python": {
     "delete_cmd_postfix": "",
     "delete_cmd_prefix": "del ",
     "library": "var_list.py",
     "varRefreshCmd": "print(var_dic_list())"
    },
    "r": {
     "delete_cmd_postfix": ") ",
     "delete_cmd_prefix": "rm(",
     "library": "var_list.r",
     "varRefreshCmd": "cat(var_dic_list()) "
    }
   },
   "types_to_exclude": [
    "module",
    "function",
    "builtin_function_or_method",
    "instance",
    "_Feature"
   ],
   "window_display": false
  }
 },
 "nbformat": 4,
 "nbformat_minor": 5
}
