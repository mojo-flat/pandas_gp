{
 "cells": [
  {
   "cell_type": "markdown",
   "metadata": {},
   "source": [
    "![ice cream flavors](images/difference-flavors-of-ice-cream.jpeg)\n",
    "\n",
    "# Let's prepare a dataframe of ice cream reviews in Pandas.\n",
    "\n",
    "\n",
    "\n",
    "We would like to do some analytics on ice cream flavors in order to inform retailers about which flavors might be best to stock and ice cream manufacturers interested in how their flavors are being received.\n",
    "\n",
    "Pandas offers tools to load, view, and process data.  Today we will be practicing:\n",
    "\n",
    "1. Loading data from disk into working memory in the form of a dataframe\n",
    "2. Viewing data in the dataframe\n",
    "3. Exploring the number of rows and columns, column names and data types, and any missing data\n",
    "4. How to remove columns and rows with missing data.\n",
    "5. How to join two dataframes together.\n",
    "\n",
    "For this notebook you will be guiding your instructor through the steps of loading and exploring a dataset in Pandas.  \n",
    "\n",
    "As necessary, please use Google to find out how to complete each step."
   ]
  },
  {
   "cell_type": "markdown",
   "metadata": {},
   "source": [
    "# Load Modules\n",
    "\n",
    "First, we have to import the Pandas module.  We will give it the alias 'pd'"
   ]
  },
  {
   "cell_type": "code",
   "execution_count": null,
   "metadata": {
    "ExecuteTime": {
     "end_time": "2021-09-29T22:04:40.759124Z",
     "start_time": "2021-09-29T22:04:39.750658Z"
    }
   },
   "outputs": [],
   "source": []
  },
  {
   "cell_type": "markdown",
   "metadata": {},
   "source": [
    "# Load Data"
   ]
  },
  {
   "cell_type": "markdown",
   "metadata": {},
   "source": [
    "There are 2 datasets in this repo.  One is called 'products.csv' and contains descriptions and ratings of several ice cream flavors.  The second is called 'reviews.csv' which contains thousands of reviews of the flavors from 'products.csv'.  Load both into separate dataframes named 'products' and 'reviews'.  \n",
    "\n",
    "These data were downloaded from [Kaggle: Ice Cream Dataset](https://www.kaggle.com/tysonpo/ice-cream-dataset)"
   ]
  },
  {
   "cell_type": "code",
   "execution_count": null,
   "metadata": {
    "ExecuteTime": {
     "end_time": "2021-09-29T22:07:21.394168Z",
     "start_time": "2021-09-29T22:07:21.358104Z"
    }
   },
   "outputs": [],
   "source": []
  },
  {
   "cell_type": "code",
   "execution_count": null,
   "metadata": {
    "ExecuteTime": {
     "end_time": "2021-10-19T20:49:02.085751Z",
     "start_time": "2021-10-19T20:49:02.010416Z"
    }
   },
   "outputs": [],
   "source": []
  },
  {
   "cell_type": "markdown",
   "metadata": {},
   "source": [
    "# Examine Data"
   ]
  },
  {
   "cell_type": "markdown",
   "metadata": {},
   "source": [
    "Great!  Now let's take a look at these datasets.  \n",
    "\n",
    "For **EACH** dataset, display: \n",
    "\n",
    "1. the first 5 rows, \n",
    "2. the last 5 rows, and \n",
    "3. 5 random rows."
   ]
  },
  {
   "cell_type": "code",
   "execution_count": null,
   "metadata": {
    "ExecuteTime": {
     "end_time": "2021-09-29T22:11:47.229387Z",
     "start_time": "2021-09-29T22:11:47.217753Z"
    }
   },
   "outputs": [],
   "source": []
  },
  {
   "cell_type": "code",
   "execution_count": null,
   "metadata": {
    "ExecuteTime": {
     "end_time": "2021-09-29T22:12:01.688407Z",
     "start_time": "2021-09-29T22:12:01.679054Z"
    }
   },
   "outputs": [],
   "source": []
  },
  {
   "cell_type": "code",
   "execution_count": null,
   "metadata": {
    "ExecuteTime": {
     "end_time": "2021-09-29T22:12:18.475704Z",
     "start_time": "2021-09-29T22:12:18.465435Z"
    }
   },
   "outputs": [],
   "source": [
    "     "
   ]
  },
  {
   "cell_type": "code",
   "execution_count": null,
   "metadata": {
    "ExecuteTime": {
     "end_time": "2021-09-29T22:13:51.685213Z",
     "start_time": "2021-09-29T22:13:51.677177Z"
    }
   },
   "outputs": [],
   "source": []
  },
  {
   "cell_type": "code",
   "execution_count": null,
   "metadata": {
    "ExecuteTime": {
     "end_time": "2021-09-29T22:27:12.191245Z",
     "start_time": "2021-09-29T22:27:12.181754Z"
    }
   },
   "outputs": [],
   "source": []
  },
  {
   "cell_type": "code",
   "execution_count": null,
   "metadata": {
    "ExecuteTime": {
     "end_time": "2021-09-29T22:32:01.494142Z",
     "start_time": "2021-09-29T22:32:01.487227Z"
    },
    "scrolled": true
   },
   "outputs": [],
   "source": []
  },
  {
   "cell_type": "code",
   "execution_count": null,
   "metadata": {
    "ExecuteTime": {
     "end_time": "2021-09-29T22:32:30.766490Z",
     "start_time": "2021-09-29T22:32:30.759125Z"
    },
    "scrolled": true
   },
   "outputs": [],
   "source": []
  },
  {
   "cell_type": "markdown",
   "metadata": {},
   "source": [
    "create a new view (a window into a dataframe where a dataframe is not copied) into the products dataframe.  Show only the names of the ice cream flavors and the average rating of each flavor.  Display the first SEVEN rows."
   ]
  },
  {
   "cell_type": "code",
   "execution_count": null,
   "metadata": {
    "ExecuteTime": {
     "end_time": "2021-09-29T22:19:28.634739Z",
     "start_time": "2021-09-29T22:19:28.629726Z"
    },
    "scrolled": true
   },
   "outputs": [],
   "source": []
  },
  {
   "cell_type": "code",
   "execution_count": null,
   "metadata": {
    "ExecuteTime": {
     "end_time": "2021-09-29T22:24:40.715419Z",
     "start_time": "2021-09-29T22:24:40.708597Z"
    },
    "scrolled": true
   },
   "outputs": [],
   "source": []
  },
  {
   "cell_type": "code",
   "execution_count": null,
   "metadata": {
    "ExecuteTime": {
     "end_time": "2021-09-29T22:24:16.620514Z",
     "start_time": "2021-09-29T22:24:16.613919Z"
    },
    "scrolled": true
   },
   "outputs": [],
   "source": []
  },
  {
   "cell_type": "code",
   "execution_count": null,
   "metadata": {
    "ExecuteTime": {
     "end_time": "2021-09-08T18:31:49.996534Z",
     "start_time": "2021-09-08T18:31:49.989975Z"
    }
   },
   "outputs": [],
   "source": []
  },
  {
   "cell_type": "code",
   "execution_count": null,
   "metadata": {
    "ExecuteTime": {
     "end_time": "2021-09-08T18:22:28.107014Z",
     "start_time": "2021-09-08T18:22:28.102096Z"
    }
   },
   "outputs": [],
   "source": []
  },
  {
   "cell_type": "markdown",
   "metadata": {},
   "source": [
    "# Explore Data"
   ]
  },
  {
   "cell_type": "markdown",
   "metadata": {},
   "source": [
    "Now print the shape of each dataframe, the number of rows and columns it contains"
   ]
  },
  {
   "cell_type": "code",
   "execution_count": null,
   "metadata": {
    "ExecuteTime": {
     "end_time": "2021-09-29T22:34:48.552249Z",
     "start_time": "2021-09-29T22:34:48.548491Z"
    }
   },
   "outputs": [],
   "source": []
  },
  {
   "cell_type": "code",
   "execution_count": null,
   "metadata": {
    "ExecuteTime": {
     "end_time": "2021-09-29T22:35:01.708047Z",
     "start_time": "2021-09-29T22:35:01.704528Z"
    }
   },
   "outputs": [],
   "source": []
  },
  {
   "cell_type": "code",
   "execution_count": null,
   "metadata": {
    "ExecuteTime": {
     "end_time": "2021-09-29T22:34:04.510412Z",
     "start_time": "2021-09-29T22:34:04.506327Z"
    }
   },
   "outputs": [],
   "source": []
  },
  {
   "cell_type": "code",
   "execution_count": null,
   "metadata": {
    "ExecuteTime": {
     "end_time": "2021-09-29T22:34:17.542013Z",
     "start_time": "2021-09-29T22:34:17.537834Z"
    }
   },
   "outputs": [],
   "source": []
  },
  {
   "cell_type": "markdown",
   "metadata": {},
   "source": [
    "Next, use 1 method for each dataframe to examine the names of the columns, data types, and number of non-null values."
   ]
  },
  {
   "cell_type": "code",
   "execution_count": null,
   "metadata": {
    "ExecuteTime": {
     "end_time": "2021-09-29T22:37:23.599105Z",
     "start_time": "2021-09-29T22:37:23.588522Z"
    }
   },
   "outputs": [],
   "source": []
  },
  {
   "cell_type": "code",
   "execution_count": null,
   "metadata": {
    "ExecuteTime": {
     "end_time": "2021-09-08T18:34:21.752265Z",
     "start_time": "2021-09-08T18:34:21.742839Z"
    }
   },
   "outputs": [],
   "source": []
  },
  {
   "cell_type": "markdown",
   "metadata": {},
   "source": [
    "Do either dataframe have missing values?  If so, print the number of missing values in each column.  This will require chaining 2 methods."
   ]
  },
  {
   "cell_type": "code",
   "execution_count": null,
   "metadata": {
    "ExecuteTime": {
     "end_time": "2021-09-29T22:39:11.143276Z",
     "start_time": "2021-09-29T22:39:11.134590Z"
    }
   },
   "outputs": [],
   "source": []
  },
  {
   "cell_type": "code",
   "execution_count": null,
   "metadata": {
    "ExecuteTime": {
     "end_time": "2021-09-29T22:40:16.828633Z",
     "start_time": "2021-09-29T22:40:16.819377Z"
    }
   },
   "outputs": [],
   "source": []
  },
  {
   "cell_type": "markdown",
   "metadata": {},
   "source": [
    "# Remove Null Values"
   ]
  },
  {
   "cell_type": "markdown",
   "metadata": {},
   "source": [
    "If a column from one of the datasets was missing any data, we need to deal with that.  Our machine learning algorithms might throw an error if our datasets are missing data.\n",
    "\n",
    "For each column with missing data:\n",
    "1. if the column is missing >= 10% of the data, drop the **COLUMN**.\n",
    "2. if the column is missing < 10% of the data, drop the **ROWS** that are missing data."
   ]
  },
  {
   "cell_type": "code",
   "execution_count": null,
   "metadata": {},
   "outputs": [],
   "source": []
  },
  {
   "cell_type": "code",
   "execution_count": null,
   "metadata": {},
   "outputs": [],
   "source": []
  },
  {
   "cell_type": "code",
   "execution_count": null,
   "metadata": {},
   "outputs": [],
   "source": []
  },
  {
   "cell_type": "markdown",
   "metadata": {},
   "source": [
    "Verify that your dataset no longer contains missing values"
   ]
  },
  {
   "cell_type": "code",
   "execution_count": null,
   "metadata": {},
   "outputs": [],
   "source": []
  },
  {
   "cell_type": "markdown",
   "metadata": {},
   "source": [
    "# Final Challenge: Join the Tables!\n",
    "\n",
    "Both tables have a column labeled 'key'.  This column connects these tables by assigning each flavor a unique key and adding it to the reviews table so the keys for the flavors in 'products' matches the keys for flavor that each review describes.\n",
    "\n",
    "Our last step will be to join the two tables so that the information from each flavor in the 'product' table is combined with each review in the 'reviews' table.\n",
    "\n",
    "Name the resulting table 'icecream'"
   ]
  },
  {
   "cell_type": "code",
   "execution_count": null,
   "metadata": {},
   "outputs": [],
   "source": []
  },
  {
   "cell_type": "markdown",
   "metadata": {},
   "source": [
    "Verify that 'icecream' now contains data from both 'reviews' and 'products' by displaying a random sample of 3 rows.  \n",
    "\n",
    "Also, verify that 'icecream' has the same number of rows as 'reviews' and a number of columns equal to the sum of the number of columns from 'reviews' and 'products' minus 1.  (Why minus one?)"
   ]
  },
  {
   "cell_type": "code",
   "execution_count": null,
   "metadata": {},
   "outputs": [],
   "source": []
  },
  {
   "cell_type": "code",
   "execution_count": null,
   "metadata": {},
   "outputs": [],
   "source": []
  },
  {
   "cell_type": "markdown",
   "metadata": {},
   "source": [
    "# Congratulations!\n",
    "\n",
    "You have:\n",
    "1. loaded two tables into dataframes\n",
    "2. viewed the beginning, end, and random samples of the tables\n",
    "3. examined the shape, feature names, and data types in the tables\n",
    "4. detected and removed missing values in two different ways\n",
    "5. joined the two tables into one using a key\n",
    "\n",
    "# Please take moment to complete the survey below\n",
    "\n",
    "# [Exit Ticket](https://docs.google.com/forms/d/e/1FAIpQLScVX-8y_vNLjaxFry_wWacl2a8NhvznAQvNkmiuXmxQ6b_wKg/viewform?usp=sf_link)"
   ]
  },
  {
   "cell_type": "code",
   "execution_count": null,
   "metadata": {},
   "outputs": [],
   "source": []
  }
 ],
 "metadata": {
  "kernelspec": {
   "display_name": "Python 3",
   "language": "python",
   "name": "python3"
  },
  "language_info": {
   "codemirror_mode": {
    "name": "ipython",
    "version": 3
   },
   "file_extension": ".py",
   "mimetype": "text/x-python",
   "name": "python",
   "nbconvert_exporter": "python",
   "pygments_lexer": "ipython3",
   "version": "3.8.5"
  },
  "toc": {
   "base_numbering": 1,
   "nav_menu": {},
   "number_sections": true,
   "sideBar": true,
   "skip_h1_title": false,
   "title_cell": "Table of Contents",
   "title_sidebar": "Contents",
   "toc_cell": false,
   "toc_position": {},
   "toc_section_display": true,
   "toc_window_display": false
  },
  "varInspector": {
   "cols": {
    "lenName": 16,
    "lenType": 16,
    "lenVar": 40
   },
   "kernels_config": {
    "python": {
     "delete_cmd_postfix": "",
     "delete_cmd_prefix": "del ",
     "library": "var_list.py",
     "varRefreshCmd": "print(var_dic_list())"
    },
    "r": {
     "delete_cmd_postfix": ") ",
     "delete_cmd_prefix": "rm(",
     "library": "var_list.r",
     "varRefreshCmd": "cat(var_dic_list()) "
    }
   },
   "types_to_exclude": [
    "module",
    "function",
    "builtin_function_or_method",
    "instance",
    "_Feature"
   ],
   "window_display": false
  }
 },
 "nbformat": 4,
 "nbformat_minor": 5
}
